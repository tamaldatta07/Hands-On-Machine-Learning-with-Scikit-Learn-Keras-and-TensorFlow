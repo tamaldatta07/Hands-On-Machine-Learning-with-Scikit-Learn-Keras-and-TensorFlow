{
 "cells": [
  {
   "cell_type": "markdown",
   "id": "ac32aeb1",
   "metadata": {},
   "source": [
    "# Complete Case Analysis\n",
    "Complete-case analysis (CCA), also called \"list-wise deletion\" of cases, consists of discarding observations with any missing values. In other words, we only keep observations with data on all the variables.\n",
    "\n",
    "`CCA can be applied to both categorical and numerical variables.`\n",
    "\n",
    "### Assumptions\n",
    "\n",
    "CCA works well when the data is missing completely at random. In this scenario, excluding observations with missing information would be the same as randomly excluding some observations from the dataset. Therefore, the dataset after CCA remains a fair representation of the original dataset.\n",
    "\n",
    "#### Advantages\n",
    "\n",
    "* No data manipulation required.\n",
    "\n",
    "* Preserves variable distribution (assumming data is missing at random).\n",
    "\n",
    "#### Disadvantages\n",
    "\n",
    "* It can discard a large fraction of the original dataset (if missing data is abundant).\n",
    "\n",
    "* Excluded observations could be informative (if data is not missing at random).\n",
    "\n",
    "* CCA will create a biased dataset (i.e., the complete dataset differs from the original data) if the data is not missing at     random.\n",
    "\n",
    "* When using our models in production, the model will not be able to handle missing data.\n",
    "\n",
    "#### When to use CCA\n",
    "\n",
    "* Data is missing completely at random\n",
    "\n",
    "* No more than 5% of the total dataset contains missing data\n",
    "\n",
    "`In practice, CCA may be an acceptable method when the proportion of missing information is small. There is no rule of thumb to determine how much missing data is small. However, as general guidance, if the proportion of missing data is <= 5%, CCA could be a viable option.`"
   ]
  },
  {
   "cell_type": "code",
   "execution_count": 1,
   "id": "27974091",
   "metadata": {},
   "outputs": [],
   "source": [
    "import pandas as pd\n",
    "import numpy as np\n",
    "import matplotlib.pyplot as plt\n",
    "\n",
    "# To display all columns of the dataframe.\n",
    "pd.set_option('display.max_columns', None)"
   ]
  },
  {
   "cell_type": "code",
   "execution_count": 3,
   "id": "5828e74c",
   "metadata": {},
   "outputs": [
    {
     "data": {
      "text/plain": [
       "(1460, 81)"
      ]
     },
     "execution_count": 3,
     "metadata": {},
     "output_type": "execute_result"
    }
   ],
   "source": [
    "# Let's load the House Prices dataset and explore its shape (rows and columns).\n",
    "\n",
    "data = pd.read_csv('train.csv')\n",
    "data.shape"
   ]
  },
  {
   "cell_type": "code",
   "execution_count": null,
   "id": "69aa734f",
   "metadata": {},
   "outputs": [],
   "source": []
  }
 ],
 "metadata": {
  "kernelspec": {
   "display_name": "Python 3 (ipykernel)",
   "language": "python",
   "name": "python3"
  },
  "language_info": {
   "codemirror_mode": {
    "name": "ipython",
    "version": 3
   },
   "file_extension": ".py",
   "mimetype": "text/x-python",
   "name": "python",
   "nbconvert_exporter": "python",
   "pygments_lexer": "ipython3",
   "version": "3.9.15"
  }
 },
 "nbformat": 4,
 "nbformat_minor": 5
}
